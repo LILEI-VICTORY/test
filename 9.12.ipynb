{
 "cells": [
  {
   "cell_type": "markdown",
   "metadata": {},
   "source": [
    "# 选择\n",
    "## 布尔类型、数值和表达式\n",
    "![](../Photo/33.png)\n",
    "- 注意：比较运算符的相等是两个等到，一个等到代表赋值\n",
    "- 在Python中可以用整型0来代表False，其他数字来代表True\n",
    "- 后面还会讲到 is 在判断语句中的用发"
   ]
  },
  {
   "cell_type": "code",
   "execution_count": 2,
   "metadata": {},
   "outputs": [
    {
     "data": {
      "text/plain": [
       "False"
      ]
     },
     "execution_count": 2,
     "metadata": {},
     "output_type": "execute_result"
    }
   ],
   "source": [
    "2 ==True"
   ]
  },
  {
   "cell_type": "markdown",
   "metadata": {},
   "source": [
    "## 字符串的比较使用ASCII值"
   ]
  },
  {
   "cell_type": "code",
   "execution_count": 3,
   "metadata": {},
   "outputs": [
    {
     "data": {
      "text/plain": [
       "False"
      ]
     },
     "execution_count": 3,
     "metadata": {},
     "output_type": "execute_result"
    }
   ],
   "source": [
    "'a' =='b'"
   ]
  },
  {
   "cell_type": "code",
   "execution_count": 32,
   "metadata": {},
   "outputs": [
    {
     "name": "stdout",
     "output_type": "stream",
     "text": [
      ">>55\n",
      "C\n"
     ]
    }
   ],
   "source": [
    "# 90-A\n",
    "# 80-90-B\n",
    "number = eval(input('>>'))\n",
    "if number>=90:\n",
    "    print('A')\n",
    "elif 80 <= number < 90:\n",
    "    print('B')\n",
    "elif  80 > number:\n",
    "    print('C')"
   ]
  },
  {
   "cell_type": "markdown",
   "metadata": {},
   "source": [
    "## Markdown \n",
    "- https://github.com/younghz/Markdown"
   ]
  },
  {
   "cell_type": "markdown",
   "metadata": {},
   "source": [
    "## EP:\n",
    "- <img src=\"../Photo/34.png\"></img>\n",
    "- 输入一个数字，判断其实奇数还是偶数"
   ]
  },
  {
   "cell_type": "code",
   "execution_count": 35,
   "metadata": {},
   "outputs": [
    {
     "data": {
      "text/plain": [
       "True"
      ]
     },
     "execution_count": 35,
     "metadata": {},
     "output_type": "execute_result"
    }
   ],
   "source": [
    "b1 = bool(4)\n",
    "b1"
   ]
  },
  {
   "cell_type": "markdown",
   "metadata": {},
   "source": [
    "## 产生随机数字\n",
    "- 函数random.randint(a,b) 可以用来产生一个a和b之间且包括a和b的随机整数"
   ]
  },
  {
   "cell_type": "code",
   "execution_count": 59,
   "metadata": {},
   "outputs": [
    {
     "name": "stdout",
     "output_type": "stream",
     "text": [
      ">>1\n",
      "small\n",
      ">>2\n",
      "small\n",
      ">>4\n",
      "small\n",
      ">>5\n",
      "OK\n"
     ]
    }
   ],
   "source": [
    "import random\n",
    "# number = eval(input('>>'))\n",
    "a = random.randint(1,5)\n",
    "while True:\n",
    "    number = eval(input('>>'))\n",
    "    if number == a:\n",
    "        print('OK')\n",
    "        break\n",
    "    elif number > a:\n",
    "        print('big')\n",
    "    elif number < a:\n",
    "        print('small')"
   ]
  },
  {
   "cell_type": "markdown",
   "metadata": {},
   "source": [
    "##  其他random方法\n",
    "- random.random 返回0.0到1.0之间前闭后开区间的随机浮点\n",
    "- random.randrange(a,b) 前闭后开"
   ]
  },
  {
   "cell_type": "markdown",
   "metadata": {},
   "source": [
    "## EP：\n",
    "- 产生两个随机整数number1和number2，然后显示给用户，使用户输入数字的和，并判定其是否正确\n",
    "- 进阶:写一个随机序号点名程序"
   ]
  },
  {
   "cell_type": "code",
   "execution_count": 12,
   "metadata": {},
   "outputs": [
    {
     "name": "stdout",
     "output_type": "stream",
     "text": [
      "生成的数为：5 和 5\n",
      ">>10\n",
      "OK\n"
     ]
    }
   ],
   "source": [
    "import random\n",
    "a = random.randint(1,5)\n",
    "b = random.randint(1,5)\n",
    "c = a + b\n",
    "print('生成的数为：' + str(a) + ' 和 ' + str(b))\n",
    "while True:\n",
    "    num = eval(input('>>'))\n",
    "    if num == c:\n",
    "        print('OK')\n",
    "        break\n",
    "    elif num > c:\n",
    "        print('big')\n",
    "    elif num < c:\n",
    "        print('small')"
   ]
  },
  {
   "cell_type": "code",
   "execution_count": null,
   "metadata": {},
   "outputs": [],
   "source": []
  },
  {
   "cell_type": "markdown",
   "metadata": {},
   "source": [
    "## if语句\n",
    "- 如果条件正确就执行一个单向if语句，亦即当条件为真的时候才执行if内部的语句\n",
    "- Python有很多选择语句:\n",
    "> - 单向if \n",
    "  - 双向if-else\n",
    "  - 嵌套if\n",
    "  - 多向if-elif-else\n",
    "  \n",
    "- 注意：当语句含有子语句的时候，那么一定至少要有一个缩进，也就是说如果有儿子存在，那么一定要缩进\n",
    "- 切记不可tab键和space混用，单用tab 或者 space\n",
    "- 当你输出的结果是无论if是否为真时都需要显示时，语句应该与if对齐"
   ]
  },
  {
   "cell_type": "code",
   "execution_count": null,
   "metadata": {},
   "outputs": [],
   "source": [
    "\n",
    "            "
   ]
  },
  {
   "cell_type": "markdown",
   "metadata": {},
   "source": [
    "## EP：\n",
    "- 用户输入一个数字，判断其实奇数还是偶数\n",
    "- 进阶：可以查看下4.5实例研究猜生日"
   ]
  },
  {
   "cell_type": "markdown",
   "metadata": {},
   "source": [
    "## 双向if-else 语句\n",
    "- 如果条件为真，那么走if内部语句，否则走else内部语句"
   ]
  },
  {
   "cell_type": "markdown",
   "metadata": {},
   "source": [
    "## EP：\n",
    "- 产生两个随机整数number1和number2，然后显示给用户，使用户输入数字，并判定其是否正确,如果正确打印“you‘re correct”，否则打印正确错误"
   ]
  },
  {
   "cell_type": "markdown",
   "metadata": {},
   "source": [
    "## 嵌套if 和多向if-elif-else\n",
    "![](../Photo/35.png)"
   ]
  },
  {
   "cell_type": "markdown",
   "metadata": {},
   "source": [
    "## EP：\n",
    "- 提示用户输入一个年份，然后显示表示这一年的动物\n",
    "![](../Photo/36.png)\n",
    "- 计算身体质量指数的程序\n",
    "- BMI = 以千克为单位的体重除以以米为单位的身高\n",
    "![](../Photo/37.png)"
   ]
  },
  {
   "cell_type": "code",
   "execution_count": 43,
   "metadata": {},
   "outputs": [
    {
     "name": "stdout",
     "output_type": "stream",
     "text": [
      "输入年份：1996\n",
      "你属鼠\n"
     ]
    }
   ],
   "source": [
    "year = eval(input('输入年份：'))\n",
    "a = year % 12\n",
    "if a == 0:\n",
    "    print('你属猴')\n",
    "elif a == 1:\n",
    "    print('你属鸡')\n",
    "elif a == 2:\n",
    "    print('你属狗')\n",
    "elif a == 3:\n",
    "    print('你属猪')\n",
    "elif a == 4:\n",
    "    print('你属鼠')\n",
    "elif a == 5:\n",
    "    print('你属牛')\n",
    "elif a == 6:\n",
    "    print('你属虎')\n",
    "elif a == 7:\n",
    "    print('你属兔')\n",
    "elif a == 8:\n",
    "    print('你属龙')\n",
    "elif a == 9:\n",
    "    print('你属蛇')\n",
    "elif a == 10:\n",
    "    print('你属马')\n",
    "else:\n",
    "    print('你属羊')"
   ]
  },
  {
   "cell_type": "code",
   "execution_count": null,
   "metadata": {},
   "outputs": [],
   "source": [
    "zhong = eval(input('输入体重：'))\n",
    "hige = eval(input('输入身高：'))\n",
    "BMI = zhong / (hige * hige)\n",
    "if BMI < 18.5:\n",
    "    print('超轻')\n",
    "elif 18.5 <= BMI < 25:\n",
    "    print('标准')\n",
    "elif 25 <= BMI <30:\n",
    "    print('超重')\n",
    "elif 30 <= BMI:\n",
    "    print('痴肥')"
   ]
  },
  {
   "cell_type": "markdown",
   "metadata": {},
   "source": [
    "## 逻辑运算符\n",
    "![](../Photo/38.png)"
   ]
  },
  {
   "cell_type": "code",
   "execution_count": 10,
   "metadata": {},
   "outputs": [
    {
     "data": {
      "text/plain": [
       "False"
      ]
     },
     "execution_count": 10,
     "metadata": {},
     "output_type": "execute_result"
    }
   ],
   "source": [
    "a = [1,2,3,4]\n",
    "1 not in a"
   ]
  },
  {
   "cell_type": "code",
   "execution_count": 1,
   "metadata": {},
   "outputs": [
    {
     "data": {
      "text/plain": [
       "False"
      ]
     },
     "execution_count": 1,
     "metadata": {},
     "output_type": "execute_result"
    }
   ],
   "source": [
    "a = 19\n",
    "a > 20"
   ]
  },
  {
   "cell_type": "markdown",
   "metadata": {},
   "source": [
    "![](../Photo/39.png)\n",
    "![](../Photo/40.png)"
   ]
  },
  {
   "cell_type": "markdown",
   "metadata": {},
   "source": [
    "## EP：\n",
    "- 判定闰年：一个年份如果能被4整除但不能被100整除，或者能被400整除，那么这个年份就是闰年\n",
    "- 提示用户输入一个年份，并返回是否是闰年\n",
    "- 提示用户输入一个数字，判断其是否为水仙花数"
   ]
  },
  {
   "cell_type": "code",
   "execution_count": 15,
   "metadata": {},
   "outputs": [
    {
     "name": "stdout",
     "output_type": "stream",
     "text": [
      "输入年份：2001\n",
      "2001 不是闰年\n"
     ]
    }
   ],
   "source": [
    "year = eval(input('输入年份：'))\n",
    "if (year % 4 ==0) and (year % 100 !=0) or (year % 400 ==0):\n",
    "    print(str(year) + ' 是闰年')\n",
    "else:\n",
    "    print(str(year) + ' 不是闰年')"
   ]
  },
  {
   "cell_type": "code",
   "execution_count": 18,
   "metadata": {},
   "outputs": [
    {
     "name": "stdout",
     "output_type": "stream",
     "text": [
      "输入数字：153\n",
      "153 是水仙花数\n"
     ]
    }
   ],
   "source": [
    "import math\n",
    "number = eval(input('输入数字：'))\n",
    "a = number % 10\n",
    "b = number // 10\n",
    "c = b % 10\n",
    "d = b // 10\n",
    "number_ = math.pow(a,3) + math.pow(c,3) + math.pow(d,3)\n",
    "if number == number_:\n",
    "    print(str(number) + ' 是水仙花数')\n",
    "else:\n",
    "    print(str(number) + ' 不是水仙花数')"
   ]
  },
  {
   "cell_type": "markdown",
   "metadata": {},
   "source": [
    "## 实例研究：彩票\n",
    "![](../Photo/41.png)"
   ]
  },
  {
   "cell_type": "code",
   "execution_count": 4,
   "metadata": {},
   "outputs": [
    {
     "name": "stdout",
     "output_type": "stream",
     "text": [
      "13\n",
      ">>25\n",
      "谢谢惠顾\n"
     ]
    }
   ],
   "source": [
    "import random\n",
    "mod_1 = random.randint(0,9)\n",
    "mod_2 = random.randint(0,9)\n",
    "mod = str(mod_1) + str(mod_2)\n",
    "print(str(mod))\n",
    "num = input('>>')\n",
    "if num == mod:\n",
    "    print('1等奖')\n",
    "elif num[0] == mod[1] and num[1] == mod[0]:\n",
    "    print('2等奖')\n",
    "elif num[0] == mod[1] or num[1] == mod[0] or num[0] == mod[0] or num[1] == mod[1]:\n",
    "    print('3等奖')\n",
    "else:\n",
    "    print('谢谢惠顾')"
   ]
  },
  {
   "cell_type": "markdown",
   "metadata": {},
   "source": [
    "# Homework\n",
    "- 1\n",
    "![](../Photo/42.png)"
   ]
  },
  {
   "cell_type": "code",
   "execution_count": 4,
   "metadata": {},
   "outputs": [
    {
     "name": "stdout",
     "output_type": "stream",
     "text": [
      "Enter a,b,c:1,2,1\n",
      "The root is -1.0\n"
     ]
    }
   ],
   "source": [
    "import math\n",
    "a,b,c = eval(input('Enter a,b,c:'))\n",
    "x = b * b - 4 * a * c\n",
    "if x < 0:\n",
    "    print('The equation has no real roots')\n",
    "elif x == 0:\n",
    "    r = (- b) / 2 * a\n",
    "    print('The root is ' + str(r))\n",
    "elif x > 0:\n",
    "    y = math.sqrt(b * b - 4 * a * c)\n",
    "    r1 = ((- b) + y) / 2 * a\n",
    "    r2 = ((- b) - y) / 2 * a\n",
    "    print('The roots are ' + str(r1) + ' and ' + str(r2))"
   ]
  },
  {
   "cell_type": "markdown",
   "metadata": {},
   "source": [
    "- 2\n",
    "![](../Photo/43.png)"
   ]
  },
  {
   "cell_type": "code",
   "execution_count": 9,
   "metadata": {},
   "outputs": [
    {
     "name": "stdout",
     "output_type": "stream",
     "text": [
      "生成的数为：4 和 5\n",
      ">>8\n",
      "假\n"
     ]
    }
   ],
   "source": [
    "import random\n",
    "a = random.randint(1,5)\n",
    "b = random.randint(1,5)\n",
    "c = a + b\n",
    "print('生成的数为：' + str(a) + ' 和 ' + str(b))\n",
    "num = eval(input('>>'))\n",
    "if num == c:\n",
    "    print('真')\n",
    "elif num !=c:\n",
    "    print('假')"
   ]
  },
  {
   "cell_type": "markdown",
   "metadata": {},
   "source": [
    "- 3\n",
    "![](../Photo/44.png)"
   ]
  },
  {
   "cell_type": "code",
   "execution_count": 19,
   "metadata": {},
   "outputs": [
    {
     "data": {
      "text/plain": [
       "3"
      ]
     },
     "execution_count": 19,
     "metadata": {},
     "output_type": "execute_result"
    }
   ],
   "source": [
    "31% 7"
   ]
  },
  {
   "cell_type": "code",
   "execution_count": 27,
   "metadata": {},
   "outputs": [
    {
     "name": "stdout",
     "output_type": "stream",
     "text": [
      "Enter today day:1\n",
      "Enter the number of days elapsed since taday:3\n",
      "Today is Monday and the future day is Thursday\n"
     ]
    }
   ],
   "source": [
    "today = eval(input('Enter today day:'))\n",
    "day = eval(input('Enter the number of days elapsed since taday:'))\n",
    "b = (['Sunday','Monday','Tuesday','Wednesday','Thursday','Friday','Saturday'])\n",
    "day_ = (day + today) % 7\n",
    "print('Today is ' + str(b[today]) + ' and the future day is ' + str(b[day_]))"
   ]
  },
  {
   "cell_type": "markdown",
   "metadata": {},
   "source": [
    "- 4\n",
    "![](../Photo/45.png)"
   ]
  },
  {
   "cell_type": "code",
   "execution_count": 19,
   "metadata": {},
   "outputs": [
    {
     "name": "stdout",
     "output_type": "stream",
     "text": [
      "输入第一个数字：5\n",
      "输入第二个数字：2\n",
      "输入第三个数字：8\n",
      "升序排列：258\n"
     ]
    }
   ],
   "source": [
    "a = eval(input('输入第一个数字：'))\n",
    "b = eval(input('输入第二个数字：'))\n",
    "c = eval(input('输入第三个数字：'))\n",
    "if a > b and b > c:\n",
    "    print('升序排列：' + str(c) + str(b) + str(a))\n",
    "elif a > c and c > b:\n",
    "    print('升序排列：' + str(b) + str(c) + str(a))\n",
    "elif b > c and c > a:\n",
    "    print('升序排列：' + str(a) + str(c) + str(b))\n",
    "elif b > a and a > c:\n",
    "    print('升序排列：' + str(c) + str(a) + str(b))\n",
    "elif c > a and a > b:\n",
    "    print('升序排列：' + str(b) + str(a) + str(c))\n",
    "elif c > b and b > a:\n",
    "    print('升序排列：' + str(a) + str(b) + str(c))"
   ]
  },
  {
   "cell_type": "markdown",
   "metadata": {},
   "source": [
    "- 5\n",
    "![](../Photo/46.png)"
   ]
  },
  {
   "cell_type": "code",
   "execution_count": 20,
   "metadata": {},
   "outputs": [
    {
     "name": "stdout",
     "output_type": "stream",
     "text": [
      "Enter weight and price for package 1 :50,24.59\n",
      "Enter weight and price for package 2 :25,11.99\n",
      "Package 2 has the better price\n"
     ]
    }
   ],
   "source": [
    "weight_1,money_1 = eval(input('Enter weight and price for package 1 :'))\n",
    "weight_2,money_2 = eval(input('Enter weight and price for package 2 :'))\n",
    "pr_1 = money_1 / weight_1\n",
    "pr_2 = money_2 / weight_2\n",
    "if pr_1 > pr_2:\n",
    "    print('Package 2 has the better price')\n",
    "else:\n",
    "    print('Package 1 has the better price')"
   ]
  },
  {
   "cell_type": "markdown",
   "metadata": {},
   "source": [
    "- 6\n",
    "![](../Photo/47.png)"
   ]
  },
  {
   "cell_type": "code",
   "execution_count": 1,
   "metadata": {},
   "outputs": [
    {
     "name": "stdout",
     "output_type": "stream",
     "text": [
      "输入月份: 2\n",
      "输入年份: 2000\n",
      "2000年2月29天\n"
     ]
    }
   ],
   "source": [
    "mounth = eval(input('输入月份: '))\n",
    "year = eval(input('输入年份: '))\n",
    "day = [31,28,31,30,31,30,31,31,30,31,30,31]\n",
    "if (year % 4 == 0) and  (year % 100 != 0)  or year % 400 == 0 :\n",
    "    day[1] = day[1] + 1\n",
    "print(str(year) + '年' + str(mounth) + '月' + str(day[mounth-1]) + '天')"
   ]
  },
  {
   "cell_type": "markdown",
   "metadata": {},
   "source": [
    "- 7\n",
    "![](../Photo/48.png)"
   ]
  },
  {
   "cell_type": "code",
   "execution_count": 14,
   "metadata": {},
   "outputs": [
    {
     "name": "stdout",
     "output_type": "stream",
     "text": [
      "输入猜测值：0\n",
      "1\n",
      "NOT OK\n"
     ]
    }
   ],
   "source": [
    "import random\n",
    "a = random.randint(0,1)\n",
    "x = eval(input('输入猜测值：'))\n",
    "# a = [0,1]\n",
    "# b = ['正面','反面']\n",
    "# a= b\n",
    "print(a)\n",
    "if x==a:\n",
    "    print('OK')\n",
    "else:\n",
    "    print('NOT OK')\n",
    "    \n",
    "    \n",
    "import random\n",
    "b=random.randint(0,1)\n",
    "c=['正面','反面']\n",
    "a = eval(input('输入猜测值：'))\n",
    "if a==b:\n",
    "    print('the computer is',c[b],'You are',c[a],'too,it is a draw')\n",
    "elif a>b and not(a==2 and b==0 or a==0 and b==2 ):\n",
    "     print('the computer is',c[b],'You are',c[a],'.You win')\n",
    "else:\n",
    "     print('the computer is',c[b],'You are',c[a],'.You loss')"
   ]
  },
  {
   "cell_type": "markdown",
   "metadata": {},
   "source": [
    "- 8\n",
    "![](../Photo/49.png)"
   ]
  },
  {
   "cell_type": "code",
   "execution_count": 28,
   "metadata": {},
   "outputs": [
    {
     "name": "stdout",
     "output_type": "stream",
     "text": [
      "scissor（0）rock,（1）, paper（2）:0\n",
      "the computer is scissor,You are scissortoo,it is a draw\n"
     ]
    }
   ],
   "source": [
    "import random\n",
    "a = eval(input('scissor（0）rock,（1）, paper（2）:'))\n",
    "b = random.randint(0,2)\n",
    "c = ['scissor','rock','paper']\n",
    "if a==b:\n",
    "    print('the computer is ' + str(c[b]) + ',You are ' + str(c[a]) + 'too,it is a draw')\n",
    "elif a>b and not(a==2 and b==0 or a==0 and b==2 ):\n",
    "     print('the computer is '+ str(c[b]) + ',You are ' + str(c[a]) + '.You win')\n",
    "else:\n",
    "     print('the computer is ' + str(c[b]) + ',You are ' + str(c[a]) + '.You loss')"
   ]
  },
  {
   "cell_type": "markdown",
   "metadata": {},
   "source": [
    "- 9\n",
    "![](../Photo/50.png)"
   ]
  },
  {
   "cell_type": "code",
   "execution_count": null,
   "metadata": {},
   "outputs": [],
   "source": []
  },
  {
   "cell_type": "markdown",
   "metadata": {},
   "source": [
    "- 10\n",
    "![](../Photo/51.png)"
   ]
  },
  {
   "cell_type": "code",
   "execution_count": 31,
   "metadata": {},
   "outputs": [
    {
     "data": {
      "text/plain": [
       "12"
      ]
     },
     "execution_count": 31,
     "metadata": {},
     "output_type": "execute_result"
    }
   ],
   "source": [
    "51% 13"
   ]
  },
  {
   "cell_type": "code",
   "execution_count": 62,
   "metadata": {},
   "outputs": [
    {
     "data": {
      "text/plain": [
       "4"
      ]
     },
     "execution_count": 62,
     "metadata": {},
     "output_type": "execute_result"
    }
   ],
   "source": [
    "52 // 13"
   ]
  },
  {
   "cell_type": "code",
   "execution_count": 80,
   "metadata": {},
   "outputs": [
    {
     "name": "stdout",
     "output_type": "stream",
     "text": [
      "The card you picked is the 5 of Diamonds\n"
     ]
    }
   ],
   "source": [
    "import random\n",
    "b = random.randint(0,52)\n",
    "p = ['King','Ace','2','3','4','5','6','7','8','9','10','Jack','Queen']\n",
    "h = ['Clubs','Diamonds','Hearts','Spades']\n",
    "a = b % 13\n",
    "c = b // 13\n",
    "print('The card you picked is the ' + str(p[a-1]) + ' of ' +  str(h[c]))"
   ]
  },
  {
   "cell_type": "markdown",
   "metadata": {},
   "source": [
    "- 11\n",
    "![](../Photo/52.png)"
   ]
  },
  {
   "cell_type": "code",
   "execution_count": 5,
   "metadata": {},
   "outputs": [
    {
     "name": "stdout",
     "output_type": "stream",
     "text": [
      "Enter a three-digit integer: 123\n",
      "123 is not a palindrome\n"
     ]
    }
   ],
   "source": [
    "number = eval(input(\"Enter a three-digit integer: \"))\n",
    "number_ = (number % 10) * 100 + (number // 10 % 10) * 10 + (number // 100)\n",
    "if number == number_:\n",
    "    print(str(number) + \" is a palindrome\")\n",
    "else:\n",
    "    print(str(number) + \" is not a palindrome\")"
   ]
  },
  {
   "cell_type": "markdown",
   "metadata": {},
   "source": [
    "- 12\n",
    "![](../Photo/53.png)"
   ]
  },
  {
   "cell_type": "code",
   "execution_count": 1,
   "metadata": {},
   "outputs": [
    {
     "name": "stdout",
     "output_type": "stream",
     "text": [
      "输入三边值:1,1,2\n",
      "这三边无法构成三角形\n"
     ]
    }
   ],
   "source": [
    "a,b,c = eval(input('输入三边值:'))\n",
    "if a + b > c and a + c > b and b + c > a:\n",
    "    s = a + b + c\n",
    "    print('该三角形周长为： ',s)\n",
    "else:\n",
    "    print('这三边无法构成三角形')"
   ]
  }
 ],
 "metadata": {
  "kernelspec": {
   "display_name": "Python 3",
   "language": "python",
   "name": "python3"
  },
  "language_info": {
   "codemirror_mode": {
    "name": "ipython",
    "version": 3
   },
   "file_extension": ".py",
   "mimetype": "text/x-python",
   "name": "python",
   "nbconvert_exporter": "python",
   "pygments_lexer": "ipython3",
   "version": "3.6.4"
  }
 },
 "nbformat": 4,
 "nbformat_minor": 2
}
